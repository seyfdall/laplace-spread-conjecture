{
 "cells": [
  {
   "cell_type": "code",
   "execution_count": 2,
   "metadata": {},
   "outputs": [],
   "source": [
    "import numpy as np\n",
    "import math \n",
    "import networkx as nx\n",
    "import itertools\n",
    "import time\n",
    "from sage.all import *\n",
    "import h5py\n",
    "from matplotlib import pyplot as plt\n",
    "from pathlib import Path\n",
    "import os"
   ]
  },
  {
   "cell_type": "code",
   "execution_count": 3,
   "metadata": {},
   "outputs": [],
   "source": [
    "L = np.array([\n",
    "    [2,-1,-1,0,0,0],\n",
    "    [-1,3,-1,-1,0,0],\n",
    "    [-1,-1,3,0,-1,0],\n",
    "    [0,-1,0,3,-1,-1],\n",
    "    [0,0,-1,-1,3,-1],\n",
    "    [0,0,0,-1,-1,2],\n",
    "])"
   ]
  },
  {
   "cell_type": "code",
   "execution_count": 11,
   "metadata": {},
   "outputs": [],
   "source": [
    "def get_submatrix(L, vertices_to_remove):\n",
    "    rows = L[vertices_to_remove,:]\n",
    "    cols = L[:,vertices_to_remove]\n",
    "    submatrix_rows_parsed = np.delete(L, vertices_to_remove, axis=0)\n",
    "    submatrix = np.delete(submatrix_rows_parsed, vertices_to_remove, axis=1)\n",
    "    return submatrix, rows, cols"
   ]
  },
  {
   "cell_type": "code",
   "execution_count": 12,
   "metadata": {},
   "outputs": [
    {
     "data": {
      "text/plain": [
       "(array([[ 2,  0,  0,  0],\n",
       "        [ 0,  3, -1, -1],\n",
       "        [ 0, -1,  3, -1],\n",
       "        [ 0, -1, -1,  2]]),\n",
       " array([[-1,  3, -1, -1,  0,  0],\n",
       "        [-1, -1,  3,  0, -1,  0]]),\n",
       " array([[-1, -1],\n",
       "        [ 3, -1],\n",
       "        [-1,  3],\n",
       "        [-1,  0],\n",
       "        [ 0, -1],\n",
       "        [ 0,  0]]))"
      ]
     },
     "execution_count": 12,
     "metadata": {},
     "output_type": "execute_result"
    }
   ],
   "source": [
    "submatrix, rows, cols = get_submatrix(L, [1,2])\n",
    "submatrix, rows, cols"
   ]
  },
  {
   "cell_type": "code",
   "execution_count": 6,
   "metadata": {},
   "outputs": [
    {
     "data": {
      "text/plain": [
       "array([[0.5  , 0.   , 0.   , 0.   ],\n",
       "       [0.   , 0.625, 0.375, 0.5  ],\n",
       "       [0.   , 0.375, 0.625, 0.5  ],\n",
       "       [0.   , 0.5  , 0.5  , 1.   ]])"
      ]
     },
     "execution_count": 6,
     "metadata": {},
     "output_type": "execute_result"
    }
   ],
   "source": [
    "bottleneck = np.linalg.inv(submatrix)\n",
    "bottleneck"
   ]
  },
  {
   "cell_type": "code",
   "execution_count": 13,
   "metadata": {},
   "outputs": [
    {
     "data": {
      "image/png": "[encoded data removed]",
      "text/plain": [
       "<Figure size 640x480 with 1 Axes>"
      ]
     },
     "metadata": {},
     "output_type": "display_data"
    }
   ],
   "source": [
    "G = nx.from_numpy_array(submatrix)\n",
    "nx.draw(G, with_labels=True, node_color='lightblue', edge_color='gray', node_size=500, font_size=16)\n",
    "plt.show()"
   ]
  },
  {
   "cell_type": "code",
   "execution_count": 15,
   "metadata": {},
   "outputs": [
    {
     "name": "stdout",
     "output_type": "stream",
     "text": [
      "Component: {0, 1, 2}\n",
      "Adjacency matrix:\n",
      "[[0 1 0]\n",
      " [1 0 1]\n",
      " [0 1 0]]\n",
      "Component: {3, 4}\n",
      "Adjacency matrix:\n",
      "[[0 1]\n",
      " [1 0]]\n",
      "1.4142135623730951 0\n"
     ]
    }
   ],
   "source": [
    "# Example adjacency matrix\n",
    "adj_matrix = np.array([\n",
    "    [0, 1, 0, 0, 0],\n",
    "    [1, 0, 1, 0, 0],\n",
    "    [0, 1, 0, 0, 0],\n",
    "    [0, 0, 0, 0, 1],\n",
    "    [0, 0, 0, 1, 0]\n",
    "])\n",
    "\n",
    "# Create a NetworkX graph from the adjacency matrix\n",
    "G = nx.from_numpy_array(adj_matrix)\n",
    "\n",
    "# Find the connected components\n",
    "connected_components = list(nx.connected_components(G))\n",
    "\n",
    "# Function to get the adjacency matrix of a component\n",
    "def get_adj_matrix(component, graph):\n",
    "    subgraph = graph.subgraph(component)\n",
    "    adj_matrix = nx.adjacency_matrix(subgraph).todense()\n",
    "    return adj_matrix\n",
    "\n",
    "# Output the connected components and their adjacency matrices\n",
    "# Find the one with the largest spectral radius\n",
    "max_perron_val, perron_component = 0, 0\n",
    "for i, component in enumerate(connected_components):\n",
    "    adj_matrix = get_adj_matrix(component, G)\n",
    "    spec_rad = np.max(np.abs(np.linalg.eigvals(adj_matrix)))\n",
    "    if spec_rad > max_perron_val:\n",
    "        max_perron_val = spec_rad\n",
    "        perron_component = i\n",
    "    print(f\"Component: {component}\")\n",
    "    print(\"Adjacency matrix:\")\n",
    "    print(adj_matrix)\n",
    "\n",
    "print(max_perron_val, perron_component)"
   ]
  }
 ],
 "metadata": {
  "kernelspec": {
   "display_name": "sage_mpi",
   "language": "python",
   "name": "python3"
  },
  "language_info": {
   "codemirror_mode": {
    "name": "ipython",
    "version": 3
   },
   "file_extension": ".py",
   "mimetype": "text/x-python",
   "name": "python",
   "nbconvert_exporter": "python",
   "pygments_lexer": "ipython3",
   "version": "3.11.9"
  }
 },
 "nbformat": 4,
 "nbformat_minor": 2
}
